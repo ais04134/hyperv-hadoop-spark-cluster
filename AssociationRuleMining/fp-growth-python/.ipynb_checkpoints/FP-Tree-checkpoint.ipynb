{
 "cells": [
  {
   "cell_type": "markdown",
   "id": "ff2fd8d2",
   "metadata": {},
   "source": [
    "# Python을 이용한 FP-Tree 구현"
   ]
  },
  {
   "cell_type": "markdown",
   "id": "eed4341b",
   "metadata": {},
   "source": [
    "## 1. 테스트 데이터 생성\n",
    "- Let_I: item의 항목 집합\n",
    "- trans_action_database: transaction들에 대한 DB "
   ]
  },
  {
   "cell_type": "code",
   "execution_count": null,
   "id": "97956d6b",
   "metadata": {},
   "outputs": [],
   "source": [
    "from random import seed # 랜덤 숫자 생성을 위한 key, 동일한 결과 유지\n",
    "from random import randrange # 0 부터 a까지(a를 포함하지 않는)의 정수를 랜덤으로 생성\n",
    "from random import randint # a부터 b까지의 정수를 랜덤으로 생성\n",
    "\n",
    "seed(1) \n",
    "\n",
    "Let_I = ['치킨', '피자', '햄버거', '족발', '라면', '우동', '비빔밥', '아이스크림']\n",
    "\n",
    "for i in \n",
    "# Integer from 0 to 9 inclusive\n",
    "number = randrange(10)\n",
    "print(number)"
   ]
  },
  {
   "cell_type": "code",
   "execution_count": 2,
   "id": "82b75bf9",
   "metadata": {
    "scrolled": true
   },
   "outputs": [
    {
     "name": "stderr",
     "output_type": "stream",
     "text": [
      "C:\\Users\\is041\\AppData\\Local\\Temp\\ipykernel_26788\\2073299703.py:4: VisibleDeprecationWarning: Creating an ndarray from ragged nested sequences (which is a list-or-tuple of lists-or-tuples-or ndarrays with different lengths or shapes) is deprecated. If you meant to do this, you must specify 'dtype=object' when creating the ndarray.\n",
      "  data = np.array([\n"
     ]
    },
    {
     "data": {
      "text/html": [
       "<div>\n",
       "<style scoped>\n",
       "    .dataframe tbody tr th:only-of-type {\n",
       "        vertical-align: middle;\n",
       "    }\n",
       "\n",
       "    .dataframe tbody tr th {\n",
       "        vertical-align: top;\n",
       "    }\n",
       "\n",
       "    .dataframe thead th {\n",
       "        text-align: right;\n",
       "    }\n",
       "</style>\n",
       "<table border=\"1\" class=\"dataframe\">\n",
       "  <thead>\n",
       "    <tr style=\"text-align: right;\">\n",
       "      <th></th>\n",
       "      <th>items</th>\n",
       "    </tr>\n",
       "  </thead>\n",
       "  <tbody>\n",
       "    <tr>\n",
       "      <th>0</th>\n",
       "      <td>[휴지, 물티슈, 샴푸]</td>\n",
       "    </tr>\n",
       "    <tr>\n",
       "      <th>1</th>\n",
       "      <td>[수세미, 물티슈, 비누]</td>\n",
       "    </tr>\n",
       "    <tr>\n",
       "      <th>2</th>\n",
       "      <td>[휴지, 수세미, 물티슈, 비누]</td>\n",
       "    </tr>\n",
       "    <tr>\n",
       "      <th>3</th>\n",
       "      <td>[수세미, 비누]</td>\n",
       "    </tr>\n",
       "  </tbody>\n",
       "</table>\n",
       "</div>"
      ],
      "text/plain": [
       "                items\n",
       "0       [휴지, 물티슈, 샴푸]\n",
       "1      [수세미, 물티슈, 비누]\n",
       "2  [휴지, 수세미, 물티슈, 비누]\n",
       "3           [수세미, 비누]"
      ]
     },
     "execution_count": 2,
     "metadata": {},
     "output_type": "execute_result"
    }
   ],
   "source": [
    "import numpy as np\n",
    "import pandas as pd\n",
    "\n",
    "data = np.array([\n",
    "                 ['치킨','피자','샴푸'],\n",
    "                 ['수세미','물티슈','비누'],\n",
    "                 ['휴지','수세미','물티슈','비누'],\n",
    "                 ['수세미','비누']\n",
    "])\n",
    "\n",
    "df_data = pd.DataFrame(data=data, columns=['items'])\n",
    "df_data"
   ]
  },
  {
   "cell_type": "code",
   "execution_count": null,
   "id": "98b92937",
   "metadata": {},
   "outputs": [],
   "source": [
    "import mlxtend\n",
    "from mlxtend.preprocessing import TransactionEncoder\n",
    "te = TransactionEncoder()\n",
    "te_array = te.fit(data).transform(data)\n",
    "\n",
    "df = pd.DataFrame(te_array, columns=te.columns_)\n",
    "\n",
    "df"
   ]
  },
  {
   "cell_type": "code",
   "execution_count": 2,
   "id": "577315a0",
   "metadata": {},
   "outputs": [
    {
     "data": {
      "text/html": [
       "<div>\n",
       "<style scoped>\n",
       "    .dataframe tbody tr th:only-of-type {\n",
       "        vertical-align: middle;\n",
       "    }\n",
       "\n",
       "    .dataframe tbody tr th {\n",
       "        vertical-align: top;\n",
       "    }\n",
       "\n",
       "    .dataframe thead th {\n",
       "        text-align: right;\n",
       "    }\n",
       "</style>\n",
       "<table border=\"1\" class=\"dataframe\">\n",
       "  <thead>\n",
       "    <tr style=\"text-align: right;\">\n",
       "      <th></th>\n",
       "      <th>support</th>\n",
       "      <th>itemsets</th>\n",
       "    </tr>\n",
       "  </thead>\n",
       "  <tbody>\n",
       "    <tr>\n",
       "      <th>0</th>\n",
       "      <td>0.75</td>\n",
       "      <td>(물티슈)</td>\n",
       "    </tr>\n",
       "    <tr>\n",
       "      <th>1</th>\n",
       "      <td>0.50</td>\n",
       "      <td>(휴지)</td>\n",
       "    </tr>\n",
       "    <tr>\n",
       "      <th>2</th>\n",
       "      <td>0.75</td>\n",
       "      <td>(수세미)</td>\n",
       "    </tr>\n",
       "    <tr>\n",
       "      <th>3</th>\n",
       "      <td>0.75</td>\n",
       "      <td>(비누)</td>\n",
       "    </tr>\n",
       "    <tr>\n",
       "      <th>4</th>\n",
       "      <td>0.50</td>\n",
       "      <td>(비누, 물티슈)</td>\n",
       "    </tr>\n",
       "    <tr>\n",
       "      <th>5</th>\n",
       "      <td>0.50</td>\n",
       "      <td>(수세미, 물티슈)</td>\n",
       "    </tr>\n",
       "    <tr>\n",
       "      <th>6</th>\n",
       "      <td>0.50</td>\n",
       "      <td>(비누, 수세미, 물티슈)</td>\n",
       "    </tr>\n",
       "    <tr>\n",
       "      <th>7</th>\n",
       "      <td>0.50</td>\n",
       "      <td>(휴지, 물티슈)</td>\n",
       "    </tr>\n",
       "    <tr>\n",
       "      <th>8</th>\n",
       "      <td>0.75</td>\n",
       "      <td>(비누, 수세미)</td>\n",
       "    </tr>\n",
       "  </tbody>\n",
       "</table>\n",
       "</div>"
      ],
      "text/plain": [
       "   support        itemsets\n",
       "0     0.75           (물티슈)\n",
       "1     0.50            (휴지)\n",
       "2     0.75           (수세미)\n",
       "3     0.75            (비누)\n",
       "4     0.50       (비누, 물티슈)\n",
       "5     0.50      (수세미, 물티슈)\n",
       "6     0.50  (비누, 수세미, 물티슈)\n",
       "7     0.50       (휴지, 물티슈)\n",
       "8     0.75       (비누, 수세미)"
      ]
     },
     "execution_count": 2,
     "metadata": {},
     "output_type": "execute_result"
    }
   ],
   "source": [
    "from mlxtend.frequent_patterns import fpgrowth\n",
    "fpgrowth(df, min_support=0.5, use_colnames=True)"
   ]
  },
  {
   "cell_type": "code",
   "execution_count": null,
   "id": "bc3e38eb",
   "metadata": {},
   "outputs": [],
   "source": []
  }
 ],
 "metadata": {
  "kernelspec": {
   "display_name": "Python 3 (ipykernel)",
   "language": "python",
   "name": "python3"
  },
  "language_info": {
   "codemirror_mode": {
    "name": "ipython",
    "version": 3
   },
   "file_extension": ".py",
   "mimetype": "text/x-python",
   "name": "python",
   "nbconvert_exporter": "python",
   "pygments_lexer": "ipython3",
   "version": "3.10.9"
  }
 },
 "nbformat": 4,
 "nbformat_minor": 5
}
